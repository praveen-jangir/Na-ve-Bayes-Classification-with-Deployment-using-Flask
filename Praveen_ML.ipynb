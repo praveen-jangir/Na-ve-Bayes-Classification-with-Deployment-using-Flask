{
  "nbformat": 4,
  "nbformat_minor": 0,
  "metadata": {
    "colab": {
      "name": "Praveen-ML.ipynb",
      "provenance": []
    },
    "kernelspec": {
      "name": "python3",
      "display_name": "Python 3"
    },
    "language_info": {
      "name": "python"
    }
  },
  "cells": [
    {
      "cell_type": "code",
      "metadata": {
        "id": "_uosvo8WmlwH"
      },
      "source": [
        "# # Data Preprocessing\n",
        "# Importing the libraries\n",
        "import numpy as np\n",
        "import matplotlib.pyplot as plt\n",
        "import pandas as pd"
      ],
      "execution_count": 1,
      "outputs": []
    },
    {
      "cell_type": "code",
      "metadata": {
        "id": "8LW-9cfymtnD"
      },
      "source": [
        "dataset = pd.read_csv(\"/content/Praveen PGI18CS032 - Classification Dataset2.csv - Praveen PGI18CS032 - Classification Dataset2.csv.csv\")"
      ],
      "execution_count": 59,
      "outputs": []
    },
    {
      "cell_type": "code",
      "metadata": {
        "id": "uzzxPScNm3E4"
      },
      "source": [
        "\n",
        "dataset['Gender'] = dataset['Gender'].replace({'Male': 0,'Female': 1,})"
      ],
      "execution_count": 64,
      "outputs": []
    },
    {
      "cell_type": "code",
      "metadata": {
        "id": "oKvxg_k7m5iD"
      },
      "source": [
        "dataset.to_csv(\"/content/Praveen PGI18CS032 - Classification Dataset2.csv - Praveen PGI18CS032 - Classification Dataset2.csv.csv\", index=False)"
      ],
      "execution_count": 67,
      "outputs": []
    },
    {
      "cell_type": "code",
      "metadata": {
        "colab": {
          "base_uri": "https://localhost:8080/",
          "height": 391
        },
        "id": "kW3FITrOnRDo",
        "outputId": "3fb63b40-c0c3-4de2-f306-37733764ba1d"
      },
      "source": [
        "dataset"
      ],
      "execution_count": 68,
      "outputs": [
        {
          "output_type": "execute_result",
          "data": {
            "text/html": [
              "<div>\n",
              "<style scoped>\n",
              "    .dataframe tbody tr th:only-of-type {\n",
              "        vertical-align: middle;\n",
              "    }\n",
              "\n",
              "    .dataframe tbody tr th {\n",
              "        vertical-align: top;\n",
              "    }\n",
              "\n",
              "    .dataframe thead th {\n",
              "        text-align: right;\n",
              "    }\n",
              "</style>\n",
              "<table border=\"1\" class=\"dataframe\">\n",
              "  <thead>\n",
              "    <tr style=\"text-align: right;\">\n",
              "      <th></th>\n",
              "      <th>Gender</th>\n",
              "      <th>Glucose</th>\n",
              "      <th>BP</th>\n",
              "      <th>SkinThickness</th>\n",
              "      <th>Insulin</th>\n",
              "      <th>BMI</th>\n",
              "      <th>PedigreeFunction</th>\n",
              "      <th>Age</th>\n",
              "      <th>Outcome</th>\n",
              "    </tr>\n",
              "  </thead>\n",
              "  <tbody>\n",
              "    <tr>\n",
              "      <th>0</th>\n",
              "      <td>0</td>\n",
              "      <td>148</td>\n",
              "      <td>72.0</td>\n",
              "      <td>35.0</td>\n",
              "      <td>0.0</td>\n",
              "      <td>33.6</td>\n",
              "      <td>0.627</td>\n",
              "      <td>50</td>\n",
              "      <td>1</td>\n",
              "    </tr>\n",
              "    <tr>\n",
              "      <th>1</th>\n",
              "      <td>1</td>\n",
              "      <td>85</td>\n",
              "      <td>66.0</td>\n",
              "      <td>29.0</td>\n",
              "      <td>0.0</td>\n",
              "      <td>26.6</td>\n",
              "      <td>0.351</td>\n",
              "      <td>31</td>\n",
              "      <td>0</td>\n",
              "    </tr>\n",
              "    <tr>\n",
              "      <th>2</th>\n",
              "      <td>1</td>\n",
              "      <td>183</td>\n",
              "      <td>64.0</td>\n",
              "      <td>0.0</td>\n",
              "      <td>0.0</td>\n",
              "      <td>23.3</td>\n",
              "      <td>0.672</td>\n",
              "      <td>32</td>\n",
              "      <td>1</td>\n",
              "    </tr>\n",
              "    <tr>\n",
              "      <th>3</th>\n",
              "      <td>1</td>\n",
              "      <td>89</td>\n",
              "      <td>66.0</td>\n",
              "      <td>23.0</td>\n",
              "      <td>94.0</td>\n",
              "      <td>28.1</td>\n",
              "      <td>0.167</td>\n",
              "      <td>21</td>\n",
              "      <td>0</td>\n",
              "    </tr>\n",
              "    <tr>\n",
              "      <th>4</th>\n",
              "      <td>0</td>\n",
              "      <td>137</td>\n",
              "      <td>NaN</td>\n",
              "      <td>35.0</td>\n",
              "      <td>168.0</td>\n",
              "      <td>43.1</td>\n",
              "      <td>2.288</td>\n",
              "      <td>33</td>\n",
              "      <td>1</td>\n",
              "    </tr>\n",
              "    <tr>\n",
              "      <th>...</th>\n",
              "      <td>...</td>\n",
              "      <td>...</td>\n",
              "      <td>...</td>\n",
              "      <td>...</td>\n",
              "      <td>...</td>\n",
              "      <td>...</td>\n",
              "      <td>...</td>\n",
              "      <td>...</td>\n",
              "      <td>...</td>\n",
              "    </tr>\n",
              "    <tr>\n",
              "      <th>559</th>\n",
              "      <td>0</td>\n",
              "      <td>85</td>\n",
              "      <td>74.0</td>\n",
              "      <td>0.0</td>\n",
              "      <td>0.0</td>\n",
              "      <td>30.1</td>\n",
              "      <td>0.300</td>\n",
              "      <td>35</td>\n",
              "      <td>0</td>\n",
              "    </tr>\n",
              "    <tr>\n",
              "      <th>560</th>\n",
              "      <td>0</td>\n",
              "      <td>125</td>\n",
              "      <td>76.0</td>\n",
              "      <td>0.0</td>\n",
              "      <td>0.0</td>\n",
              "      <td>33.8</td>\n",
              "      <td>0.121</td>\n",
              "      <td>54</td>\n",
              "      <td>1</td>\n",
              "    </tr>\n",
              "    <tr>\n",
              "      <th>561</th>\n",
              "      <td>0</td>\n",
              "      <td>198</td>\n",
              "      <td>66.0</td>\n",
              "      <td>32.0</td>\n",
              "      <td>274.0</td>\n",
              "      <td>41.3</td>\n",
              "      <td>0.502</td>\n",
              "      <td>28</td>\n",
              "      <td>1</td>\n",
              "    </tr>\n",
              "    <tr>\n",
              "      <th>562</th>\n",
              "      <td>0</td>\n",
              "      <td>87</td>\n",
              "      <td>68.0</td>\n",
              "      <td>34.0</td>\n",
              "      <td>77.0</td>\n",
              "      <td>37.6</td>\n",
              "      <td>0.401</td>\n",
              "      <td>24</td>\n",
              "      <td>0</td>\n",
              "    </tr>\n",
              "    <tr>\n",
              "      <th>563</th>\n",
              "      <td>0</td>\n",
              "      <td>99</td>\n",
              "      <td>60.0</td>\n",
              "      <td>19.0</td>\n",
              "      <td>54.0</td>\n",
              "      <td>26.9</td>\n",
              "      <td>0.497</td>\n",
              "      <td>32</td>\n",
              "      <td>0</td>\n",
              "    </tr>\n",
              "  </tbody>\n",
              "</table>\n",
              "<p>564 rows × 9 columns</p>\n",
              "</div>"
            ],
            "text/plain": [
              "     Gender  Glucose    BP  SkinThickness  ...   BMI  PedigreeFunction  Age  Outcome\n",
              "0         0      148  72.0           35.0  ...  33.6             0.627   50        1\n",
              "1         1       85  66.0           29.0  ...  26.6             0.351   31        0\n",
              "2         1      183  64.0            0.0  ...  23.3             0.672   32        1\n",
              "3         1       89  66.0           23.0  ...  28.1             0.167   21        0\n",
              "4         0      137   NaN           35.0  ...  43.1             2.288   33        1\n",
              "..      ...      ...   ...            ...  ...   ...               ...  ...      ...\n",
              "559       0       85  74.0            0.0  ...  30.1             0.300   35        0\n",
              "560       0      125  76.0            0.0  ...  33.8             0.121   54        1\n",
              "561       0      198  66.0           32.0  ...  41.3             0.502   28        1\n",
              "562       0       87  68.0           34.0  ...  37.6             0.401   24        0\n",
              "563       0       99  60.0           19.0  ...  26.9             0.497   32        0\n",
              "\n",
              "[564 rows x 9 columns]"
            ]
          },
          "metadata": {
            "tags": []
          },
          "execution_count": 68
        }
      ]
    },
    {
      "cell_type": "code",
      "metadata": {
        "colab": {
          "base_uri": "https://localhost:8080/"
        },
        "id": "owLYcwR4nWQ3",
        "outputId": "3f90e36e-1ea0-43a5-c03e-e2b971722dd3"
      },
      "source": [
        "dataset.isnull().sum()"
      ],
      "execution_count": 69,
      "outputs": [
        {
          "output_type": "execute_result",
          "data": {
            "text/plain": [
              "Gender               0\n",
              "Glucose              0\n",
              "BP                  16\n",
              "SkinThickness       11\n",
              "Insulin             12\n",
              "BMI                 17\n",
              "PedigreeFunction    18\n",
              "Age                  0\n",
              "Outcome              0\n",
              "dtype: int64"
            ]
          },
          "metadata": {
            "tags": []
          },
          "execution_count": 69
        }
      ]
    },
    {
      "cell_type": "code",
      "metadata": {
        "colab": {
          "base_uri": "https://localhost:8080/"
        },
        "id": "eB2YyLS3nf7n",
        "outputId": "d391a424-baa9-4e79-86fc-dfdebc9920ac"
      },
      "source": [
        "X=dataset[[\"Gender\",\"Glucose\",\"BP\",\"SkinThickness\",\"Insulin\",\"BMI\",\"PedigreeFunction\",\"Age\"]]\n",
        "y=dataset[\"Outcome\"]\n",
        "for column in X:\n",
        "    X[column] = X[column].replace(0, np.NaN)\n",
        "    mean = int(X[column].mean(skipna=True))\n",
        "    X[column] = X[column].replace(np.NaN, mean)"
      ],
      "execution_count": 85,
      "outputs": [
        {
          "output_type": "stream",
          "text": [
            "/usr/local/lib/python3.7/dist-packages/ipykernel_launcher.py:4: SettingWithCopyWarning: \n",
            "A value is trying to be set on a copy of a slice from a DataFrame.\n",
            "Try using .loc[row_indexer,col_indexer] = value instead\n",
            "\n",
            "See the caveats in the documentation: https://pandas.pydata.org/pandas-docs/stable/user_guide/indexing.html#returning-a-view-versus-a-copy\n",
            "  after removing the cwd from sys.path.\n",
            "/usr/local/lib/python3.7/dist-packages/ipykernel_launcher.py:6: SettingWithCopyWarning: \n",
            "A value is trying to be set on a copy of a slice from a DataFrame.\n",
            "Try using .loc[row_indexer,col_indexer] = value instead\n",
            "\n",
            "See the caveats in the documentation: https://pandas.pydata.org/pandas-docs/stable/user_guide/indexing.html#returning-a-view-versus-a-copy\n",
            "  \n"
          ],
          "name": "stderr"
        }
      ]
    },
    {
      "cell_type": "code",
      "metadata": {
        "colab": {
          "base_uri": "https://localhost:8080/"
        },
        "id": "yWKJNPHlo_1-",
        "outputId": "99046338-795a-4bdd-e554-12365c9a43fe"
      },
      "source": [
        "print(X)"
      ],
      "execution_count": 86,
      "outputs": [
        {
          "output_type": "stream",
          "text": [
            "     Gender  Glucose    BP  SkinThickness  Insulin   BMI  PedigreeFunction  Age\n",
            "0       1.0    148.0  72.0           35.0    153.0  33.6             0.627   50\n",
            "1       1.0     85.0  66.0           29.0    153.0  26.6             0.351   31\n",
            "2       1.0    183.0  64.0           28.0    153.0  23.3             0.672   32\n",
            "3       1.0     89.0  66.0           23.0     94.0  28.1             0.167   21\n",
            "4       1.0    137.0  72.0           35.0    168.0  43.1             2.288   33\n",
            "..      ...      ...   ...            ...      ...   ...               ...  ...\n",
            "559     1.0     85.0  74.0           28.0    153.0  30.1             0.300   35\n",
            "560     1.0    125.0  76.0           28.0    153.0  33.8             0.121   54\n",
            "561     1.0    198.0  66.0           32.0    274.0  41.3             0.502   28\n",
            "562     1.0     87.0  68.0           34.0     77.0  37.6             0.401   24\n",
            "563     1.0     99.0  60.0           19.0     54.0  26.9             0.497   32\n",
            "\n",
            "[564 rows x 8 columns]\n"
          ],
          "name": "stdout"
        }
      ]
    },
    {
      "cell_type": "code",
      "metadata": {
        "colab": {
          "base_uri": "https://localhost:8080/"
        },
        "id": "oQpNgDmDpgLt",
        "outputId": "992ca430-b6da-49ac-a6c2-d95b273fea69"
      },
      "source": [
        "print(y)"
      ],
      "execution_count": 87,
      "outputs": [
        {
          "output_type": "stream",
          "text": [
            "0      1\n",
            "1      0\n",
            "2      1\n",
            "3      0\n",
            "4      1\n",
            "      ..\n",
            "559    0\n",
            "560    1\n",
            "561    1\n",
            "562    0\n",
            "563    0\n",
            "Name: Outcome, Length: 564, dtype: int64\n"
          ],
          "name": "stdout"
        }
      ]
    },
    {
      "cell_type": "code",
      "metadata": {
        "id": "Svv5ExfXq9hW"
      },
      "source": [
        "# Splitting the dataset into the Training set and Test set\n",
        "from sklearn.model_selection import train_test_split\n",
        "\n",
        "X_train, X_test, y_train, y_test = train_test_split(X, y, test_size = 0.25, random_state = 0)"
      ],
      "execution_count": 88,
      "outputs": []
    },
    {
      "cell_type": "code",
      "metadata": {
        "colab": {
          "base_uri": "https://localhost:8080/"
        },
        "id": "9NHYHMgMrB6f",
        "outputId": "0f0a295c-3e8f-4574-9a31-ef4b367c20bb"
      },
      "source": [
        "print(X_train)"
      ],
      "execution_count": 89,
      "outputs": [
        {
          "output_type": "stream",
          "text": [
            "     Gender  Glucose    BP  SkinThickness  Insulin   BMI  PedigreeFunction  Age\n",
            "420     1.0    119.0  88.0           41.0    170.0  45.3             0.507   26\n",
            "311     1.0    106.0  70.0           37.0    148.0  39.4             0.605   22\n",
            "249     1.0    111.0  86.0           19.0    153.0  30.1             0.143   23\n",
            "230     1.0    142.0  86.0           28.0    153.0  44.0             0.645   22\n",
            "432     1.0     80.0  74.0           11.0     60.0  30.0             0.527   22\n",
            "..      ...      ...   ...            ...      ...   ...               ...  ...\n",
            "277     1.0    104.0  64.0           23.0    116.0  27.8             0.454   23\n",
            "9       1.0    125.0  96.0           28.0    153.0  32.0             0.232   54\n",
            "359     1.0    196.0  76.0           36.0    249.0  32.0             0.875   29\n",
            "192     1.0    159.0  66.0           28.0    153.0  30.4             0.383   36\n",
            "559     1.0     85.0  74.0           28.0    153.0  30.1             0.300   35\n",
            "\n",
            "[423 rows x 8 columns]\n"
          ],
          "name": "stdout"
        }
      ]
    },
    {
      "cell_type": "code",
      "metadata": {
        "colab": {
          "base_uri": "https://localhost:8080/"
        },
        "id": "zYg5nnGFrHZ-",
        "outputId": "422bc61b-13dd-4871-832b-f136aa47be9e"
      },
      "source": [
        "print(X_test)"
      ],
      "execution_count": 90,
      "outputs": [
        {
          "output_type": "stream",
          "text": [
            "     Gender  Glucose    BP  SkinThickness  Insulin   BMI  PedigreeFunction  Age\n",
            "239     1.0    104.0  76.0           28.0    153.0  18.4             0.582   27\n",
            "316     1.0     99.0  80.0           11.0     64.0  19.3             0.284   30\n",
            "188     1.0    109.0  76.0           39.0    114.0  27.9             0.640   31\n",
            "318     1.0    115.0  66.0           39.0    140.0  38.1             0.150   28\n",
            "412     1.0    143.0  84.0           23.0    310.0  42.4             1.076   22\n",
            "..      ...      ...   ...            ...      ...   ...               ...  ...\n",
            "313     1.0    113.0  50.0           10.0     85.0  29.5             0.626   25\n",
            "157     1.0    109.0  56.0           21.0    135.0  25.2             0.833   23\n",
            "65      1.0     99.0  74.0           27.0    153.0  29.0             0.203   32\n",
            "428     1.0    135.0  94.0           46.0    145.0  40.6             0.284   26\n",
            "126     1.0    120.0  70.0           30.0    135.0  42.9             0.452   30\n",
            "\n",
            "[141 rows x 8 columns]\n"
          ],
          "name": "stdout"
        }
      ]
    },
    {
      "cell_type": "code",
      "metadata": {
        "colab": {
          "base_uri": "https://localhost:8080/"
        },
        "id": "LqIcYxJQrMzT",
        "outputId": "cc762c48-915e-4438-ea59-2e8e0b602dc1"
      },
      "source": [
        "print(y_test)"
      ],
      "execution_count": 91,
      "outputs": [
        {
          "output_type": "stream",
          "text": [
            "239    0\n",
            "316    0\n",
            "188    1\n",
            "318    0\n",
            "412    0\n",
            "      ..\n",
            "313    0\n",
            "157    0\n",
            "65     0\n",
            "428    0\n",
            "126    0\n",
            "Name: Outcome, Length: 141, dtype: int64\n"
          ],
          "name": "stdout"
        }
      ]
    },
    {
      "cell_type": "code",
      "metadata": {
        "colab": {
          "base_uri": "https://localhost:8080/"
        },
        "id": "ZEocqNr2pjLk",
        "outputId": "e5f5a259-c339-450f-e873-183138ab6002"
      },
      "source": [
        "print(y_train)"
      ],
      "execution_count": 92,
      "outputs": [
        {
          "output_type": "stream",
          "text": [
            "420    0\n",
            "311    0\n",
            "249    0\n",
            "230    1\n",
            "432    0\n",
            "      ..\n",
            "277    0\n",
            "9      1\n",
            "359    1\n",
            "192    1\n",
            "559    0\n",
            "Name: Outcome, Length: 423, dtype: int64\n"
          ],
          "name": "stdout"
        }
      ]
    },
    {
      "cell_type": "code",
      "metadata": {
        "colab": {
          "base_uri": "https://localhost:8080/"
        },
        "id": "lPcI5jcOpxfr",
        "outputId": "36ce94f3-57b3-4bfc-8486-588e354c98a5"
      },
      "source": [
        "mean_age=X['Age'].mean()\n",
        "mean_age=np.round(mean_age,2)\n",
        "mean_age"
      ],
      "execution_count": 93,
      "outputs": [
        {
          "output_type": "execute_result",
          "data": {
            "text/plain": [
              "33.29"
            ]
          },
          "metadata": {
            "tags": []
          },
          "execution_count": 93
        }
      ]
    },
    {
      "cell_type": "code",
      "metadata": {
        "colab": {
          "base_uri": "https://localhost:8080/"
        },
        "id": "n1vAQ_3ap16L",
        "outputId": "0555560f-d01a-43a2-d272-516a5ab2a88f"
      },
      "source": [
        "dataset.isnull().sum()\n",
        "\n"
      ],
      "execution_count": 94,
      "outputs": [
        {
          "output_type": "execute_result",
          "data": {
            "text/plain": [
              "Gender               0\n",
              "Glucose              0\n",
              "BP                  16\n",
              "SkinThickness       11\n",
              "Insulin             12\n",
              "BMI                 17\n",
              "PedigreeFunction    18\n",
              "Age                  0\n",
              "Outcome              0\n",
              "dtype: int64"
            ]
          },
          "metadata": {
            "tags": []
          },
          "execution_count": 94
        }
      ]
    },
    {
      "cell_type": "markdown",
      "metadata": {
        "id": "rukq2cuurrf3"
      },
      "source": [
        ""
      ]
    },
    {
      "cell_type": "code",
      "metadata": {
        "colab": {
          "base_uri": "https://localhost:8080/"
        },
        "id": "CFi8uPLOqHJb",
        "outputId": "f4caf45c-015e-41ef-fa41-d0d05ecb8321"
      },
      "source": [
        "from sklearn.naive_bayes import GaussianNB\n",
        "classifier = GaussianNB()\n",
        "X=X_train\n",
        "y=y_train\n",
        "classifier.fit(X, y)"
      ],
      "execution_count": 95,
      "outputs": [
        {
          "output_type": "execute_result",
          "data": {
            "text/plain": [
              "GaussianNB(priors=None, var_smoothing=1e-09)"
            ]
          },
          "metadata": {
            "tags": []
          },
          "execution_count": 95
        }
      ]
    },
    {
      "cell_type": "code",
      "metadata": {
        "id": "DNxZgs-wqsIe"
      },
      "source": [
        "y_pred = classifier.predict(X_test)"
      ],
      "execution_count": 96,
      "outputs": []
    },
    {
      "cell_type": "code",
      "metadata": {
        "colab": {
          "base_uri": "https://localhost:8080/"
        },
        "id": "1cgfovn1tyVa",
        "outputId": "63fddc36-1428-40f1-ee16-cd0f6478b68c"
      },
      "source": [
        "print(y_pred)"
      ],
      "execution_count": 97,
      "outputs": [
        {
          "output_type": "stream",
          "text": [
            "[0 0 0 0 1 0 1 0 1 0 0 1 0 0 1 0 0 0 1 1 0 1 0 0 0 0 1 0 0 0 0 0 0 0 0 0 0\n",
            " 0 1 0 0 1 0 0 1 0 1 0 1 1 0 0 0 0 0 0 0 0 0 0 0 0 0 0 1 0 0 0 1 0 0 1 1 0\n",
            " 0 0 0 0 0 0 0 0 0 0 0 0 0 0 0 0 0 0 0 0 1 0 0 0 1 0 0 0 0 0 0 1 0 1 1 0 0\n",
            " 1 0 0 1 0 1 0 0 0 0 0 0 1 0 0 1 0 1 0 1 0 0 0 0 1 0 0 0 1 0]\n"
          ],
          "name": "stdout"
        }
      ]
    },
    {
      "cell_type": "code",
      "metadata": {
        "colab": {
          "base_uri": "https://localhost:8080/"
        },
        "id": "IxRhN3rIyuIX",
        "outputId": "165a5a0e-a9c5-4c98-c8dc-4d7bca0755e6"
      },
      "source": [
        "# Making the Confusion Matrix\n",
        "from sklearn.metrics import confusion_matrix\n",
        "cm = confusion_matrix(y_test, y_pred)\n",
        "print('Confusion matrix: ')\n",
        "print(cm)"
      ],
      "execution_count": 98,
      "outputs": [
        {
          "output_type": "stream",
          "text": [
            "Confusion matrix: \n",
            "[[84 11]\n",
            " [24 22]]\n"
          ],
          "name": "stdout"
        }
      ]
    },
    {
      "cell_type": "code",
      "metadata": {
        "colab": {
          "base_uri": "https://localhost:8080/"
        },
        "id": "iAWmzqKA0MLv",
        "outputId": "fcd4d8c6-b3c4-4401-8c1a-1e3f9c6828fa"
      },
      "source": [
        "# calculate Accuracy\n",
        "from sklearn.metrics import accuracy_score\n",
        "print('Accuracy: %.2f' % (accuracy_score(y_test, y_pred)*100))"
      ],
      "execution_count": 99,
      "outputs": [
        {
          "output_type": "stream",
          "text": [
            "Accuracy: 75.18\n"
          ],
          "name": "stdout"
        }
      ]
    },
    {
      "cell_type": "code",
      "metadata": {
        "colab": {
          "base_uri": "https://localhost:8080/"
        },
        "id": "BIhLpazd0QX-",
        "outputId": "bc359f66-4164-4d5e-ee63-081015ed3d0c"
      },
      "source": [
        "from sklearn.metrics import precision_score\n",
        "from sklearn.metrics import recall_score\n",
        "from sklearn.metrics import f1_score\n",
        "# calculate precision\n",
        "# Precision = TruePositives / (TruePositives + FalsePositives)\n",
        "precision = precision_score(y_test, y_pred, average='binary')\n",
        "print('Precision: %.3f' % (precision*100))"
      ],
      "execution_count": 100,
      "outputs": [
        {
          "output_type": "stream",
          "text": [
            "Precision: 66.667\n"
          ],
          "name": "stdout"
        }
      ]
    },
    {
      "cell_type": "code",
      "metadata": {
        "colab": {
          "base_uri": "https://localhost:8080/"
        },
        "id": "qwan2bKU0TXn",
        "outputId": "58aaafc2-b310-4c4b-d07a-27edf0bc4ed8"
      },
      "source": [
        "# calculate recall\n",
        "# Recall = TruePositives / (TruePositives + FalseNegatives)\n",
        "recall = recall_score(y_test, y_pred, average='binary')\n",
        "print('Recall: %.3f' % (recall*100))"
      ],
      "execution_count": 101,
      "outputs": [
        {
          "output_type": "stream",
          "text": [
            "Recall: 47.826\n"
          ],
          "name": "stdout"
        }
      ]
    },
    {
      "cell_type": "code",
      "metadata": {
        "colab": {
          "base_uri": "https://localhost:8080/"
        },
        "id": "RXS3M-pZ0VO-",
        "outputId": "e4c2f450-d761-4c1f-ae72-e19d665530c2"
      },
      "source": [
        "# calculate recall\n",
        "# Recall = TruePositives / (TruePositives + FalseNegatives)\n",
        "recall = recall_score(y_test, y_pred, average='binary')\n",
        "print('Recall: %.3f' % (recall*100))"
      ],
      "execution_count": 102,
      "outputs": [
        {
          "output_type": "stream",
          "text": [
            "Recall: 47.826\n"
          ],
          "name": "stdout"
        }
      ]
    },
    {
      "cell_type": "code",
      "metadata": {
        "colab": {
          "base_uri": "https://localhost:8080/"
        },
        "id": "3OiIdUqf0X4W",
        "outputId": "12371795-01cc-488c-c795-c80766741410"
      },
      "source": [
        "# F-Measure = (2 * Precision * Recall) / (Precision + Recall)\n",
        "# calculate score\n",
        "score = f1_score(y_test, y_pred, average='binary')\n",
        "print('F-Measure: %.3f' % (score*100))"
      ],
      "execution_count": 103,
      "outputs": [
        {
          "output_type": "stream",
          "text": [
            "F-Measure: 55.696\n"
          ],
          "name": "stdout"
        }
      ]
    },
    {
      "cell_type": "code",
      "metadata": {
        "colab": {
          "base_uri": "https://localhost:8080/"
        },
        "id": "UW9aA4xk0Z3-",
        "outputId": "71d4a9ad-7039-4c67-ef38-64435799275b"
      },
      "source": [
        "import pickle \n",
        "print(\"[INFO] Saving model...\")\n",
        "# Save the trained model as a pickle string. \n",
        "saved_model=pickle.dump(classifier,open('praveen.pkl', 'wb')) \n",
        "# Saving model to disk"
      ],
      "execution_count": 130,
      "outputs": [
        {
          "output_type": "stream",
          "text": [
            "[INFO] Saving model...\n"
          ],
          "name": "stdout"
        }
      ]
    },
    {
      "cell_type": "code",
      "metadata": {
        "colab": {
          "base_uri": "https://localhost:8080/"
        },
        "id": "PYfG-hXe0caX",
        "outputId": "f3ed41d1-b5d7-4893-cded-b723ad8ca4f8"
      },
      "source": [
        "# Load the pickled model \n",
        "model = pickle.load(open('Naive_Bayes_education_model.pkl','rb'))  \n",
        "# Use the loaded pickled model to make predictions \n",
        "model.predict(X_test) "
      ],
      "execution_count": 109,
      "outputs": [
        {
          "output_type": "execute_result",
          "data": {
            "text/plain": [
              "array([0, 0, 0, 0, 1, 0, 1, 0, 1, 0, 0, 1, 0, 0, 1, 0, 0, 0, 1, 1, 0, 1,\n",
              "       0, 0, 0, 0, 1, 0, 0, 0, 0, 0, 0, 0, 0, 0, 0, 0, 1, 0, 0, 1, 0, 0,\n",
              "       1, 0, 1, 0, 1, 1, 0, 0, 0, 0, 0, 0, 0, 0, 0, 0, 0, 0, 0, 0, 1, 0,\n",
              "       0, 0, 1, 0, 0, 1, 1, 0, 0, 0, 0, 0, 0, 0, 0, 0, 0, 0, 0, 0, 0, 0,\n",
              "       0, 0, 0, 0, 0, 0, 1, 0, 0, 0, 1, 0, 0, 0, 0, 0, 0, 1, 0, 1, 1, 0,\n",
              "       0, 1, 0, 0, 1, 0, 1, 0, 0, 0, 0, 0, 0, 1, 0, 0, 1, 0, 1, 0, 1, 0,\n",
              "       0, 0, 0, 1, 0, 0, 0, 1, 0])"
            ]
          },
          "metadata": {
            "tags": []
          },
          "execution_count": 109
        }
      ]
    },
    {
      "cell_type": "code",
      "metadata": {
        "colab": {
          "base_uri": "https://localhost:8080/"
        },
        "id": "J6iO2lzr063d",
        "outputId": "ee2d7288-1a5a-4144-9daf-51570987f8a1"
      },
      "source": [
        "# save the model to disk\n",
        "import joblib\n",
        "from google.colab import drive\n",
        "drive.mount('/content/drive')\n",
        "filename = 'praveen.pkl'\n",
        "joblib.dump(classifier, filename)\n",
        " \n",
        "# some time later...\n",
        " \n",
        "# load the model from disk\n",
        "randomforest_model = joblib.load(filename)\n",
        "result = randomforest_model.score(X_test, y_test)\n",
        "print(result)"
      ],
      "execution_count": 131,
      "outputs": [
        {
          "output_type": "stream",
          "text": [
            "Drive already mounted at /content/drive; to attempt to forcibly remount, call drive.mount(\"/content/drive\", force_remount=True).\n",
            "0.75177304964539\n"
          ],
          "name": "stdout"
        }
      ]
    },
    {
      "cell_type": "code",
      "metadata": {
        "colab": {
          "base_uri": "https://localhost:8080/"
        },
        "id": "VQoTmcxi1I1N",
        "outputId": "88b1992a-4e4b-46a7-f713-822bf1eeb823"
      },
      "source": [
        "Gender =  89.30#@param {type:\"number\"}\n",
        "Glucose =  72.00#@param {type:\"number\"}\n",
        "BP =  74.90#@param {type:\"number\"}\n",
        "SkinThickness =  67#@param {type:\"number\"}\n",
        "Insulin =  67#@param {type:\"number\"}\n",
        "BMI =  67#@param {type:\"number\"}\n",
        "PedigreeFunction = 56.630 #@param {type:\"number\"}\n",
        "Age =  1#@param {type:\"number\"}\n",
        "   # load the model from disk\n",
        "naive_Bayes_model = joblib.load(filename)\n",
        "     \n",
        "output=naive_Bayes_model.predict([[marksinsecondary, marksinhighersecondary ,aggregatemarks,VIIsemmarks, VIsemmarks,Vsemmarks,finalperformance, medium]])\n",
        "print(\"Placed =\", output)\n",
        "if output==[1]:\n",
        "  print( 'person has that disease.')\n",
        "else:\n",
        "  print('person has not that disease.')"
      ],
      "execution_count": 132,
      "outputs": [
        {
          "output_type": "stream",
          "text": [
            "Placed = [1]\n",
            "person has that disease.\n"
          ],
          "name": "stdout"
        }
      ]
    },
    {
      "cell_type": "code",
      "metadata": {
        "colab": {
          "base_uri": "https://localhost:8080/"
        },
        "id": "LO1oWg4S1658",
        "outputId": "76d561da-5058-4cea-bd2e-b2b624075087"
      },
      "source": [
        "!pip install flask-ngrok"
      ],
      "execution_count": 133,
      "outputs": [
        {
          "output_type": "stream",
          "text": [
            "Requirement already satisfied: flask-ngrok in /usr/local/lib/python3.7/dist-packages (0.0.25)\n",
            "Requirement already satisfied: Flask>=0.8 in /usr/local/lib/python3.7/dist-packages (from flask-ngrok) (1.1.2)\n",
            "Requirement already satisfied: requests in /usr/local/lib/python3.7/dist-packages (from flask-ngrok) (2.23.0)\n",
            "Requirement already satisfied: click>=5.1 in /usr/local/lib/python3.7/dist-packages (from Flask>=0.8->flask-ngrok) (7.1.2)\n",
            "Requirement already satisfied: Werkzeug>=0.15 in /usr/local/lib/python3.7/dist-packages (from Flask>=0.8->flask-ngrok) (1.0.1)\n",
            "Requirement already satisfied: itsdangerous>=0.24 in /usr/local/lib/python3.7/dist-packages (from Flask>=0.8->flask-ngrok) (1.1.0)\n",
            "Requirement already satisfied: Jinja2>=2.10.1 in /usr/local/lib/python3.7/dist-packages (from Flask>=0.8->flask-ngrok) (2.11.3)\n",
            "Requirement already satisfied: urllib3!=1.25.0,!=1.25.1,<1.26,>=1.21.1 in /usr/local/lib/python3.7/dist-packages (from requests->flask-ngrok) (1.24.3)\n",
            "Requirement already satisfied: chardet<4,>=3.0.2 in /usr/local/lib/python3.7/dist-packages (from requests->flask-ngrok) (3.0.4)\n",
            "Requirement already satisfied: idna<3,>=2.5 in /usr/local/lib/python3.7/dist-packages (from requests->flask-ngrok) (2.10)\n",
            "Requirement already satisfied: certifi>=2017.4.17 in /usr/local/lib/python3.7/dist-packages (from requests->flask-ngrok) (2020.12.5)\n",
            "Requirement already satisfied: MarkupSafe>=0.23 in /usr/local/lib/python3.7/dist-packages (from Jinja2>=2.10.1->Flask>=0.8->flask-ngrok) (1.1.1)\n"
          ],
          "name": "stdout"
        }
      ]
    },
    {
      "cell_type": "code",
      "metadata": {
        "id": "oiMeLnKr2ARW"
      },
      "source": [
        "%mkdir templates -p"
      ],
      "execution_count": 134,
      "outputs": []
    },
    {
      "cell_type": "code",
      "metadata": {
        "colab": {
          "base_uri": "https://localhost:8080/"
        },
        "id": "bn9NqhIE2HPE",
        "outputId": "c96d417e-2b0e-4288-8bba-c90a43e710e6"
      },
      "source": [
        "%%writefile templates/index.html\n",
        "<!DOCTYPE html>\n",
        "<html >\n",
        "<!--From https://codepen.io/frytyler/pen/EGdtg-->\n",
        "<head>\n",
        "<title>Machine Learning Lab Experiment Deployment</title>\n",
        "<meta charset=\"UTF-8\">\n",
        "<link href='https://fonts.googleapis.com/css?family=Pacifico' rel='stylesheet' type='text/css'>\n",
        "<link href='https://fonts.googleapis.com/css?family=Arimo' rel='stylesheet' type='text/css'>\n",
        "<link href='https://fonts.googleapis.com/css?family=Hind:300' rel='stylesheet' type='text/css'>\n",
        "<link href='https://fonts.googleapis.com/css?family=Open+Sans+Condensed:300' rel='stylesheet' type='text/css'>\n",
        " <link href=\"https://cdn.jsdelivr.net/npm/bootstrap@5.0.0-beta1/dist/css/bootstrap.min.css\" rel=\"stylesheet\" integrity=\"sha384-giJF6kkoqNQ00vy+HMDP7azOuL0xtbfIcaT9wjKHr8RbDVddVHyTfAAsrekwKmP1\" crossorigin=\"anonymous\"> \n",
        "<style><!DOCTYPE html>\n",
        "\n",
        "h1 {text-align: center;}\n",
        "h2 {text-align: center;}\n",
        "h3 {text-align: center;}\n",
        "p {text-align: center;}\n",
        "div {text-align: center;}\n",
        "</style>\n",
        "</head>\n",
        "\n",
        "<body>\n",
        " \n",
        "     \n",
        "<div class=\"\" style=\"background-color:blue;\" >\n",
        "<div class=\"clearfix\">\n",
        "           \n",
        "<div class=\"col-md-12\">\n",
        "<center><p style=\"font-size:40px;color:white;margin-top:10px;\">Poornima Institute of Engineering & Technology</p></center> \n",
        "<center><p style=\"font-size:30px;color:white;margin-top:10px;\">Department of Computer Engineering</p></center> \n",
        "<center><p style=\"font-size:25px;color:white;margin-top:10px;\">Machine Learning Lab Experiment Deployment</p></center> \n",
        "</div>\n",
        "</div>\n",
        "</div>\n",
        "\n",
        "<div class=\"login\">\n",
        "<h2 >Naive Bayes classification for prediction of Placement</h2>\n",
        "<h4>Developed by Deepak Moud</h4>\n",
        "<!-- Main Input For Receiving Query to our ML -->\n",
        "<form action=\"{{ url_for('predict')}}\"method=\"get\">\n",
        "<div class=\"form-floating mb-3\">\n",
        "<input type=\"number\" class=\"form-control\" id=\"floatingInput\" name=\"percentage10\" placeholder=\"Percentage\" min=\"1\" max=\"100\" required=\"required\" />\n",
        "<label for=\"floatingInput\">Enter person Gender</label>\n",
        "</div>\n",
        "<br>\n",
        "<div class=\"form-floating mb-3\">\n",
        "<input type=\"number\" class=\"form-control\" id=\"floatingInput\" name=\"percentage12\" placeholder=\"Percentage\" min=\"1\" max=\"100\" required=\"required\" />\n",
        "<label for=\"floatingInput\">Enter person Glucose</label>\n",
        "</div>\n",
        "<br>\n",
        "<div class=\"form-floating mb-3\">\n",
        "<input type=\"number\" name=\"BTechpercentage\" class=\"form-control\" id=\"floatingInput\" placeholder=\"Percentage\" min=\"1\" max=\"100\" required=\"required\" />\n",
        "<label for=\"floatingInput\">Enter person BP</label>\n",
        "</div>\n",
        "<br>\n",
        "<div class=\"form-floating mb-3\">\n",
        "<input type=\"number\" name=\"marks7sem\" class=\"form-control\" id=\"floatingInput\" placeholder=\"Percentage\" min=\"1\" max=\"100\" required=\"required\" />\n",
        "<label for=\"floatingInput\">Enter person SkinThickness</label>\n",
        "</div>\n",
        "<br>\n",
        "<div class=\"form-floating mb-3\">\n",
        "<input type=\"number\" name=\"marks6sem\" class=\"form-control\" id=\"floatingInput\" placeholder=\"Percentage\"min=\"1\" max=\"100\" required=\"required\" />\n",
        "<label for=\"floatingInput\">Enter person Insulin</label>\n",
        "</div>\n",
        "<br>\n",
        "<div class=\"form-floating mb-3\">\n",
        "<input type=\"number\" name=\"marks5sem\" class=\"form-control\" id=\"floatingInput\" placeholder=\"Percentage\" min=\"1\" max=\"100\" required=\"required\" />\n",
        "<label for=\"floatingInput\">Enter person BMI</label>\n",
        "</div>\n",
        "<br>\n",
        "<div class=\"form-floating mb-3\">\n",
        "<input type=\"number\" name=\"finalperformance\" class=\"form-control\" id=\"floatingInput\" placeholder=\"Percentage\" min=\"1\" max=\"100\" required=\"required\" />\n",
        "<label for=\"floatingInput\">Enter person PedigreeFunction</label>\n",
        "</div>\n",
        "<br>\n",
        "<div class=\"form-floating mb-3\">\n",
        "<input type=\"number\" name=\"finalperformance\" class=\"form-control\" id=\"floatingInput\" placeholder=\"Percentage\" min=\"1\" max=\"100\" required=\"required\" />\n",
        "<label for=\"floatingInput\">Enter person Age</label>\n",
        "</div>\n",
        "<br>\n",
        "<br>\n",
        "<br>\n",
        "<button type=\"submit\" class=\"btn btn-primary btn-block btn-large\">Predict disease</button>\n",
        "</form>\n",
        "<br>\n",
        "<br>\n",
        "{{ prediction_text }}\n",
        "\n",
        "</div>\n",
        "\n",
        "<div class=\"\" style=\"background-color:blue;\" >\n",
        "<div class=\"clearfix\">\n",
        "           \n",
        "<div class=\"col-md-12\">\n",
        " <center><p style=\"font-size:25px;color:white;margin-top:20px;\">Machine Learning Lab</p></center> \n",
        "</div>\n",
        "</div>\n",
        "</div>\n",
        "</body>\n",
        "</html>\n",
        "\n"
      ],
      "execution_count": 138,
      "outputs": [
        {
          "output_type": "stream",
          "text": [
            "Overwriting templates/index.html\n"
          ],
          "name": "stdout"
        }
      ]
    },
    {
      "cell_type": "code",
      "metadata": {
        "colab": {
          "base_uri": "https://localhost:8080/",
          "height": 418
        },
        "id": "TvHckqxJ2Jbj",
        "outputId": "10a14a4b-e601-4b1b-8b86-1348e986ea3d"
      },
      "source": [
        "!pip install flask-ngrok\n",
        "import numpy as np\n",
        "from flask import Flask, request, jsonify, render_template\n",
        "from flask_ngrok import run_with_ngrok\n",
        "import pickle\n",
        "import pandas as pd\n",
        "dataset= pd.read_csv('/content/Praveen PGI18CS032 - Classification Dataset2.csv - Praveen PGI18CS032 - Classification Dataset2.csv.csv')\n",
        "X = dataset.iloc[:, 0:8].values\n",
        "from sklearn.preprocessing import StandardScaler\n",
        "sc = StandardScaler()\n",
        "X = sc.fit_transform(X)\n",
        "\n",
        "app = Flask(__name__)\n",
        "model = pickle.load(open('praveen.pkl','rb')) \n",
        "run_with_ngrok(app)\n",
        "\n",
        "@app.route('/')\n",
        "def home():\n",
        "  \n",
        "    return render_template(\"index.html\")\n",
        "  \n",
        "@app.route('/predict',methods=['GET'])\n",
        "def predict():\n",
        "    \n",
        "    \n",
        "    \n",
        "    '''\n",
        "    For rendering results on HTML GUI\n",
        "    '''\n",
        "    percentage10 = int(request.args.get('percentage10'))\n",
        "    percentage12 = int(request.args.get('percentage12'))\n",
        "    BTechpercentage = int(request.args.get('BTechpercentage'))\n",
        "    marks7sem = int(request.args.get('marks7sem'))\n",
        "    marks6sem = int(request.args.get('marks6sem'))\n",
        "    marks5sem = int(request.args.get('marks5sem'))\n",
        "    finalperformance = int(request.args.get('finalperformance'))\n",
        "    medium = int(request.args.get('medium'))\n",
        "    prediction = model.predict([[percentage10,percentage12, BTechpercentage, marks7sem, marks6sem,marks5sem, finalperformance, medium ]])\n",
        "    print(prediction)\n",
        "    if prediction==[1]:\n",
        "        output='Placed'\n",
        "    else:\n",
        "        output='Not Placed'\n",
        "        \n",
        "    return render_template('index.html', prediction_text='Model has predicted student will be : {}'.format(output))\n",
        "\n",
        "\n",
        "app.run()"
      ],
      "execution_count": 139,
      "outputs": [
        {
          "output_type": "stream",
          "text": [
            "Requirement already satisfied: flask-ngrok in /usr/local/lib/python3.7/dist-packages (0.0.25)\n",
            "Requirement already satisfied: requests in /usr/local/lib/python3.7/dist-packages (from flask-ngrok) (2.23.0)\n",
            "Requirement already satisfied: Flask>=0.8 in /usr/local/lib/python3.7/dist-packages (from flask-ngrok) (1.1.2)\n",
            "Requirement already satisfied: certifi>=2017.4.17 in /usr/local/lib/python3.7/dist-packages (from requests->flask-ngrok) (2020.12.5)\n",
            "Requirement already satisfied: urllib3!=1.25.0,!=1.25.1,<1.26,>=1.21.1 in /usr/local/lib/python3.7/dist-packages (from requests->flask-ngrok) (1.24.3)\n",
            "Requirement already satisfied: idna<3,>=2.5 in /usr/local/lib/python3.7/dist-packages (from requests->flask-ngrok) (2.10)\n",
            "Requirement already satisfied: chardet<4,>=3.0.2 in /usr/local/lib/python3.7/dist-packages (from requests->flask-ngrok) (3.0.4)\n",
            "Requirement already satisfied: click>=5.1 in /usr/local/lib/python3.7/dist-packages (from Flask>=0.8->flask-ngrok) (7.1.2)\n",
            "Requirement already satisfied: itsdangerous>=0.24 in /usr/local/lib/python3.7/dist-packages (from Flask>=0.8->flask-ngrok) (1.1.0)\n",
            "Requirement already satisfied: Werkzeug>=0.15 in /usr/local/lib/python3.7/dist-packages (from Flask>=0.8->flask-ngrok) (1.0.1)\n",
            "Requirement already satisfied: Jinja2>=2.10.1 in /usr/local/lib/python3.7/dist-packages (from Flask>=0.8->flask-ngrok) (2.11.3)\n",
            "Requirement already satisfied: MarkupSafe>=0.23 in /usr/local/lib/python3.7/dist-packages (from Jinja2>=2.10.1->Flask>=0.8->flask-ngrok) (1.1.1)\n"
          ],
          "name": "stdout"
        },
        {
          "output_type": "error",
          "ename": "UnpicklingError",
          "evalue": "ignored",
          "traceback": [
            "\u001b[0;31m---------------------------------------------------------------------------\u001b[0m",
            "\u001b[0;31mUnpicklingError\u001b[0m                           Traceback (most recent call last)",
            "\u001b[0;32m<ipython-input-139-8df16d6f922b>\u001b[0m in \u001b[0;36m<module>\u001b[0;34m()\u001b[0m\n\u001b[1;32m     12\u001b[0m \u001b[0;34m\u001b[0m\u001b[0m\n\u001b[1;32m     13\u001b[0m \u001b[0mapp\u001b[0m \u001b[0;34m=\u001b[0m \u001b[0mFlask\u001b[0m\u001b[0;34m(\u001b[0m\u001b[0m__name__\u001b[0m\u001b[0;34m)\u001b[0m\u001b[0;34m\u001b[0m\u001b[0;34m\u001b[0m\u001b[0m\n\u001b[0;32m---> 14\u001b[0;31m \u001b[0mmodel\u001b[0m \u001b[0;34m=\u001b[0m \u001b[0mpickle\u001b[0m\u001b[0;34m.\u001b[0m\u001b[0mload\u001b[0m\u001b[0;34m(\u001b[0m\u001b[0mopen\u001b[0m\u001b[0;34m(\u001b[0m\u001b[0;34m'praveen.pkl'\u001b[0m\u001b[0;34m,\u001b[0m\u001b[0;34m'rb'\u001b[0m\u001b[0;34m)\u001b[0m\u001b[0;34m)\u001b[0m\u001b[0;34m\u001b[0m\u001b[0;34m\u001b[0m\u001b[0m\n\u001b[0m\u001b[1;32m     15\u001b[0m \u001b[0mrun_with_ngrok\u001b[0m\u001b[0;34m(\u001b[0m\u001b[0mapp\u001b[0m\u001b[0;34m)\u001b[0m\u001b[0;34m\u001b[0m\u001b[0;34m\u001b[0m\u001b[0m\n\u001b[1;32m     16\u001b[0m \u001b[0;34m\u001b[0m\u001b[0m\n",
            "\u001b[0;31mUnpicklingError\u001b[0m: invalid load key, '\\x00'."
          ]
        }
      ]
    },
    {
      "cell_type": "code",
      "metadata": {
        "id": "HF0Q4Fw32MOT"
      },
      "source": [
        ""
      ],
      "execution_count": 136,
      "outputs": []
    }
  ]
}